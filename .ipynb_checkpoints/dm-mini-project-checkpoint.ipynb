{
 "cells": [
  {
   "cell_type": "code",
   "execution_count": 1,
   "metadata": {
    "colab": {
     "base_uri": "https://localhost:8080/",
     "height": 104
    },
    "colab_type": "code",
    "executionInfo": {
     "elapsed": 6102,
     "status": "ok",
     "timestamp": 1600440575571,
     "user": {
      "displayName": "Prajwal Bhat",
      "photoUrl": "https://lh3.googleusercontent.com/a-/AOh14Git8KFiINGdQ1nW0gJq9MYK40HXzju4hhonJ2XTKQ=s64",
      "userId": "14656634530721889759"
     },
     "user_tz": -330
    },
    "id": "m5ZJnMM3IC-s",
    "outputId": "2a4a3431-a26d-4b63-8fe2-ebe50b085d9f"
   },
   "outputs": [
    {
     "name": "stdout",
     "output_type": "stream",
     "text": [
      "Collecting bing-image-downloader\n",
      "  Downloading bing_image_downloader-1.1.1-py3-none-any.whl (5.7 kB)\n",
      "Installing collected packages: bing-image-downloader\n",
      "Successfully installed bing-image-downloader-1.1.1\n",
      "Note: you may need to restart the kernel to use updated packages.\n"
     ]
    }
   ],
   "source": [
    "pip install bing-image-downloader"
   ]
  },
  {
   "cell_type": "code",
   "execution_count": 2,
   "metadata": {
    "colab": {
     "base_uri": "https://localhost:8080/",
     "height": 34
    },
    "colab_type": "code",
    "executionInfo": {
     "elapsed": 2794,
     "status": "ok",
     "timestamp": 1600440576281,
     "user": {
      "displayName": "Prajwal Bhat",
      "photoUrl": "https://lh3.googleusercontent.com/a-/AOh14Git8KFiINGdQ1nW0gJq9MYK40HXzju4hhonJ2XTKQ=s64",
      "userId": "14656634530721889759"
     },
     "user_tz": -330
    },
    "id": "o1QqCIqkQDdn",
    "outputId": "19c22fc3-c8e1-4dfb-e0d4-8a5084c03ba3"
   },
   "outputs": [
    {
     "name": "stdout",
     "output_type": "stream",
     "text": [
      " Volume in drive C is Windows-SSD\n",
      " Volume Serial Number is 32B7-8714\n",
      "\n",
      " Directory of C:\\Users\\Midhun\\Desktop\\DM-Mini-Project\n",
      "\n",
      "07/21/2021  10:51 PM    <DIR>          .\n",
      "07/21/2021  10:51 PM    <DIR>          ..\n",
      "07/21/2021  10:51 PM    <DIR>          .ipynb_checkpoints\n",
      "07/21/2021  10:48 PM            25,708 dm-mini-project.ipynb\n",
      "               1 File(s)         25,708 bytes\n",
      "               3 Dir(s)  190,483,988,480 bytes free\n"
     ]
    }
   ],
   "source": [
    "ls"
   ]
  },
  {
   "cell_type": "code",
   "execution_count": 83,
   "metadata": {
    "colab": {
     "base_uri": "https://localhost:8080/",
     "height": 34
    },
    "colab_type": "code",
    "executionInfo": {
     "elapsed": 2835,
     "status": "ok",
     "timestamp": 1600440578847,
     "user": {
      "displayName": "Prajwal Bhat",
      "photoUrl": "https://lh3.googleusercontent.com/a-/AOh14Git8KFiINGdQ1nW0gJq9MYK40HXzju4hhonJ2XTKQ=s64",
      "userId": "14656634530721889759"
     },
     "user_tz": -330
    },
    "id": "O-3YG4vtQgPj",
    "outputId": "7a6bd955-300a-4dfd-cac0-067653c6eb05"
   },
   "outputs": [
    {
     "name": "stdout",
     "output_type": "stream",
     "text": [
      "C:\\Users\\hp\\jupter_notebook\n"
     ]
    }
   ],
   "source": [
    "cd C:\\Users\\hp\\jupter_notebook"
   ]
  },
  {
   "cell_type": "code",
   "execution_count": null,
   "metadata": {
    "colab": {
     "base_uri": "https://localhost:8080/",
     "height": 1000
    },
    "colab_type": "code",
    "executionInfo": {
     "elapsed": 15883,
     "status": "ok",
     "timestamp": 1600440747818,
     "user": {
      "displayName": "Prajwal Bhat",
      "photoUrl": "https://lh3.googleusercontent.com/a-/AOh14Git8KFiINGdQ1nW0gJq9MYK40HXzju4hhonJ2XTKQ=s64",
      "userId": "14656634530721889759"
     },
     "user_tz": -330
    },
    "id": "6bSIeEQ2RTJB",
    "outputId": "ec15b5cd-2cc2-42c0-ae13-0ab97ef73e94"
   },
   "outputs": [],
   "source": [
    "from bing_image_downloader import downloader\n",
    "downloader.download(\"pizza\",limit =1000,output_dir ='images')"
   ]
  },
  {
   "cell_type": "code",
   "execution_count": null,
   "metadata": {
    "colab": {
     "base_uri": "https://localhost:8080/",
     "height": 240
    },
    "colab_type": "code",
    "executionInfo": {
     "elapsed": 16059,
     "status": "ok",
     "timestamp": 1600440606031,
     "user": {
      "displayName": "Prajwal Bhat",
      "photoUrl": "https://lh3.googleusercontent.com/a-/AOh14Git8KFiINGdQ1nW0gJq9MYK40HXzju4hhonJ2XTKQ=s64",
      "userId": "14656634530721889759"
     },
     "user_tz": -330
    },
    "id": "lal7Z4YwTLyO",
    "outputId": "64797e11-d1b3-4518-8d2d-b64c3355499c"
   },
   "outputs": [],
   "source": [
    "path =r'images\\pizza\\Image_1.jpg'\n",
    "import cv2\n",
    "import matplotlib.pyplot as plt\n",
    "\n",
    "i =cv2.imread(path)\n",
    "i =cv2.cvtColor(i,cv2.COLOR_BGR2RGB)\n",
    "plt.imshow(i)\n",
    "plt.show()"
   ]
  },
  {
   "cell_type": "code",
   "execution_count": null,
   "metadata": {
    "colab": {
     "base_uri": "https://localhost:8080/",
     "height": 655
    },
    "colab_type": "code",
    "executionInfo": {
     "elapsed": 10945,
     "status": "ok",
     "timestamp": 1600440748533,
     "user": {
      "displayName": "Prajwal Bhat",
      "photoUrl": "https://lh3.googleusercontent.com/a-/AOh14Git8KFiINGdQ1nW0gJq9MYK40HXzju4hhonJ2XTKQ=s64",
      "userId": "14656634530721889759"
     },
     "user_tz": -330
    },
    "id": "ofBxrb9MTacH",
    "outputId": "3d48bff9-2ee3-4dd6-803d-0feb45532a1a"
   },
   "outputs": [],
   "source": [
    "from bing_image_downloader import downloader\n",
    "downloader.download(\"pasta\",limit =1000,output_dir ='images')"
   ]
  },
  {
   "cell_type": "code",
   "execution_count": null,
   "metadata": {
    "colab": {
     "base_uri": "https://localhost:8080/",
     "height": 638
    },
    "colab_type": "code",
    "executionInfo": {
     "elapsed": 27916,
     "status": "ok",
     "timestamp": 1600440706935,
     "user": {
      "displayName": "Prajwal Bhat",
      "photoUrl": "https://lh3.googleusercontent.com/a-/AOh14Git8KFiINGdQ1nW0gJq9MYK40HXzju4hhonJ2XTKQ=s64",
      "userId": "14656634530721889759"
     },
     "user_tz": -330
    },
    "id": "l1VHniiT2P8z",
    "outputId": "e4e5235c-4ea7-4e6e-8332-162d150ad301"
   },
   "outputs": [],
   "source": [
    "import os\n",
    "\n",
    "path =r'C:\\Users\\hp\\jupter_notebook\\images\\pizza'\n",
    "print(path)\n",
    "for filename in os.listdir(path):\n",
    "    i =cv2.imread(os.path.join(path,filename))\n",
    "    i =cv2.cvtColor(i,cv2.COLOR_BGR2RGB)\n",
    "    print(i.shape)"
   ]
  },
  {
   "cell_type": "code",
   "execution_count": 107,
   "metadata": {
    "colab": {},
    "colab_type": "code",
    "executionInfo": {
     "elapsed": 4753,
     "status": "ok",
     "timestamp": 1600440748536,
     "user": {
      "displayName": "Prajwal Bhat",
      "photoUrl": "https://lh3.googleusercontent.com/a-/AOh14Git8KFiINGdQ1nW0gJq9MYK40HXzju4hhonJ2XTKQ=s64",
      "userId": "14656634530721889759"
     },
     "user_tz": -330
    },
    "id": "NUqml3ER3B1y"
   },
   "outputs": [],
   "source": [
    "from skimage.io import imread\n",
    "from skimage.transform import resize\n",
    "import numpy as np"
   ]
  },
  {
   "cell_type": "code",
   "execution_count": null,
   "metadata": {
    "colab": {
     "base_uri": "https://localhost:8080/",
     "height": 84
    },
    "colab_type": "code",
    "executionInfo": {
     "elapsed": 53029,
     "status": "ok",
     "timestamp": 1600440805216,
     "user": {
      "displayName": "Prajwal Bhat",
      "photoUrl": "https://lh3.googleusercontent.com/a-/AOh14Git8KFiINGdQ1nW0gJq9MYK40HXzju4hhonJ2XTKQ=s64",
      "userId": "14656634530721889759"
     },
     "user_tz": -330
    },
    "id": "BVtQRAvV3Jtu",
    "outputId": "7baefc7d-220d-4ba1-ce25-87b09e427cef"
   },
   "outputs": [],
   "source": [
    "target =[]  #list of target(output)\n",
    "flat_data=[] #image in flatten style\n",
    "images = []\n",
    "\n",
    "path =r'C:\\Users\\hp\\jupter_notebook\\images'\n",
    "\n",
    "for dirpath,dirnames,filenames in os.walk(path):\n",
    "    for filename in filenames:\n",
    "        \n",
    "        head, tail = os.path.split(dirpath)\n",
    "\n",
    "        print(\"training \", tail)\n",
    "        # print(head)\n",
    "\n",
    "        category = dirpath.split('/')[-1]\n",
    "        \n",
    "        target.append(tail)\n",
    "        img =imread(f'{category}/{filename}')\n",
    "        img_resize = resize(img,(50,50,3))\n",
    "        flat_data.append(img_resize.flatten())\n",
    "        images.append(img_resize)\n",
    "    \n",
    "        \n",
    "flat_data = np.array(flat_data)\n",
    "target = np.array(target)\n",
    "images = np.array(images)\n",
    "\n",
    "print(flat_data.shape)\n",
    "print(target)"
   ]
  },
  {
   "cell_type": "code",
   "execution_count": 109,
   "metadata": {
    "colab": {},
    "colab_type": "code",
    "executionInfo": {
     "elapsed": 1945,
     "status": "ok",
     "timestamp": 1600440947640,
     "user": {
      "displayName": "Prajwal Bhat",
      "photoUrl": "https://lh3.googleusercontent.com/a-/AOh14Git8KFiINGdQ1nW0gJq9MYK40HXzju4hhonJ2XTKQ=s64",
      "userId": "14656634530721889759"
     },
     "user_tz": -330
    },
    "id": "Li_5MY6m3VMg"
   },
   "outputs": [],
   "source": [
    "import pandas as pd\n",
    "\n",
    "df =pd.DataFrame(flat_data)\n",
    "\n",
    "df['Target']=target"
   ]
  },
  {
   "cell_type": "code",
   "execution_count": 110,
   "metadata": {
    "colab": {
     "base_uri": "https://localhost:8080/",
     "height": 244
    },
    "colab_type": "code",
    "executionInfo": {
     "elapsed": 1868,
     "status": "ok",
     "timestamp": 1600421875650,
     "user": {
      "displayName": "Prajwal Bhat",
      "photoUrl": "https://lh3.googleusercontent.com/a-/AOh14Git8KFiINGdQ1nW0gJq9MYK40HXzju4hhonJ2XTKQ=s64",
      "userId": "14656634530721889759"
     },
     "user_tz": -330
    },
    "id": "fy_pvZPL3xN-",
    "outputId": "66a4af05-5a7d-4d94-eeef-4854688088d3"
   },
   "outputs": [
    {
     "data": {
      "text/html": [
       "<div>\n",
       "<style scoped>\n",
       "    .dataframe tbody tr th:only-of-type {\n",
       "        vertical-align: middle;\n",
       "    }\n",
       "\n",
       "    .dataframe tbody tr th {\n",
       "        vertical-align: top;\n",
       "    }\n",
       "\n",
       "    .dataframe thead th {\n",
       "        text-align: right;\n",
       "    }\n",
       "</style>\n",
       "<table border=\"1\" class=\"dataframe\">\n",
       "  <thead>\n",
       "    <tr style=\"text-align: right;\">\n",
       "      <th></th>\n",
       "      <th>0</th>\n",
       "      <th>1</th>\n",
       "      <th>2</th>\n",
       "      <th>3</th>\n",
       "      <th>4</th>\n",
       "      <th>5</th>\n",
       "      <th>6</th>\n",
       "      <th>7</th>\n",
       "      <th>8</th>\n",
       "      <th>9</th>\n",
       "      <th>...</th>\n",
       "      <th>7491</th>\n",
       "      <th>7492</th>\n",
       "      <th>7493</th>\n",
       "      <th>7494</th>\n",
       "      <th>7495</th>\n",
       "      <th>7496</th>\n",
       "      <th>7497</th>\n",
       "      <th>7498</th>\n",
       "      <th>7499</th>\n",
       "      <th>Target</th>\n",
       "    </tr>\n",
       "  </thead>\n",
       "  <tbody>\n",
       "    <tr>\n",
       "      <th>0</th>\n",
       "      <td>0.819608</td>\n",
       "      <td>0.647059</td>\n",
       "      <td>0.576471</td>\n",
       "      <td>0.819608</td>\n",
       "      <td>0.647059</td>\n",
       "      <td>0.572549</td>\n",
       "      <td>0.894118</td>\n",
       "      <td>0.741176</td>\n",
       "      <td>0.633333</td>\n",
       "      <td>0.864373</td>\n",
       "      <td>...</td>\n",
       "      <td>0.497706</td>\n",
       "      <td>0.235294</td>\n",
       "      <td>0.188235</td>\n",
       "      <td>0.537255</td>\n",
       "      <td>0.250980</td>\n",
       "      <td>0.200000</td>\n",
       "      <td>0.525490</td>\n",
       "      <td>0.257196</td>\n",
       "      <td>0.207843</td>\n",
       "      <td>pasta</td>\n",
       "    </tr>\n",
       "    <tr>\n",
       "      <th>1</th>\n",
       "      <td>0.988235</td>\n",
       "      <td>0.839216</td>\n",
       "      <td>0.560784</td>\n",
       "      <td>0.972549</td>\n",
       "      <td>0.827451</td>\n",
       "      <td>0.552941</td>\n",
       "      <td>0.843333</td>\n",
       "      <td>0.709569</td>\n",
       "      <td>0.475373</td>\n",
       "      <td>0.378627</td>\n",
       "      <td>...</td>\n",
       "      <td>0.220039</td>\n",
       "      <td>0.231373</td>\n",
       "      <td>0.258824</td>\n",
       "      <td>0.223961</td>\n",
       "      <td>0.243569</td>\n",
       "      <td>0.274510</td>\n",
       "      <td>0.223529</td>\n",
       "      <td>0.247922</td>\n",
       "      <td>0.278431</td>\n",
       "      <td>pasta</td>\n",
       "    </tr>\n",
       "    <tr>\n",
       "      <th>2</th>\n",
       "      <td>0.646405</td>\n",
       "      <td>0.649020</td>\n",
       "      <td>0.939216</td>\n",
       "      <td>0.641830</td>\n",
       "      <td>0.643137</td>\n",
       "      <td>0.938562</td>\n",
       "      <td>0.641444</td>\n",
       "      <td>0.641000</td>\n",
       "      <td>0.937908</td>\n",
       "      <td>0.606514</td>\n",
       "      <td>...</td>\n",
       "      <td>0.050980</td>\n",
       "      <td>0.052941</td>\n",
       "      <td>0.839216</td>\n",
       "      <td>0.062745</td>\n",
       "      <td>0.064706</td>\n",
       "      <td>0.841176</td>\n",
       "      <td>0.058824</td>\n",
       "      <td>0.062745</td>\n",
       "      <td>0.841176</td>\n",
       "      <td>pasta</td>\n",
       "    </tr>\n",
       "    <tr>\n",
       "      <th>3</th>\n",
       "      <td>0.172489</td>\n",
       "      <td>0.301961</td>\n",
       "      <td>0.563786</td>\n",
       "      <td>0.165819</td>\n",
       "      <td>0.283647</td>\n",
       "      <td>0.539843</td>\n",
       "      <td>0.123725</td>\n",
       "      <td>0.208235</td>\n",
       "      <td>0.400784</td>\n",
       "      <td>0.085373</td>\n",
       "      <td>...</td>\n",
       "      <td>0.036247</td>\n",
       "      <td>0.026337</td>\n",
       "      <td>0.055608</td>\n",
       "      <td>0.019608</td>\n",
       "      <td>0.013059</td>\n",
       "      <td>0.050431</td>\n",
       "      <td>0.019608</td>\n",
       "      <td>0.023529</td>\n",
       "      <td>0.058275</td>\n",
       "      <td>pasta</td>\n",
       "    </tr>\n",
       "    <tr>\n",
       "      <th>4</th>\n",
       "      <td>0.448235</td>\n",
       "      <td>0.733333</td>\n",
       "      <td>0.768627</td>\n",
       "      <td>0.448235</td>\n",
       "      <td>0.730588</td>\n",
       "      <td>0.765576</td>\n",
       "      <td>0.443137</td>\n",
       "      <td>0.717647</td>\n",
       "      <td>0.756863</td>\n",
       "      <td>0.435294</td>\n",
       "      <td>...</td>\n",
       "      <td>0.133333</td>\n",
       "      <td>0.184706</td>\n",
       "      <td>0.192275</td>\n",
       "      <td>0.133333</td>\n",
       "      <td>0.198980</td>\n",
       "      <td>0.210745</td>\n",
       "      <td>0.144604</td>\n",
       "      <td>0.215686</td>\n",
       "      <td>0.227451</td>\n",
       "      <td>pasta</td>\n",
       "    </tr>\n",
       "  </tbody>\n",
       "</table>\n",
       "<p>5 rows × 7501 columns</p>\n",
       "</div>"
      ],
      "text/plain": [
       "          0         1         2         3         4         5         6  \\\n",
       "0  0.819608  0.647059  0.576471  0.819608  0.647059  0.572549  0.894118   \n",
       "1  0.988235  0.839216  0.560784  0.972549  0.827451  0.552941  0.843333   \n",
       "2  0.646405  0.649020  0.939216  0.641830  0.643137  0.938562  0.641444   \n",
       "3  0.172489  0.301961  0.563786  0.165819  0.283647  0.539843  0.123725   \n",
       "4  0.448235  0.733333  0.768627  0.448235  0.730588  0.765576  0.443137   \n",
       "\n",
       "          7         8         9  ...      7491      7492      7493      7494  \\\n",
       "0  0.741176  0.633333  0.864373  ...  0.497706  0.235294  0.188235  0.537255   \n",
       "1  0.709569  0.475373  0.378627  ...  0.220039  0.231373  0.258824  0.223961   \n",
       "2  0.641000  0.937908  0.606514  ...  0.050980  0.052941  0.839216  0.062745   \n",
       "3  0.208235  0.400784  0.085373  ...  0.036247  0.026337  0.055608  0.019608   \n",
       "4  0.717647  0.756863  0.435294  ...  0.133333  0.184706  0.192275  0.133333   \n",
       "\n",
       "       7495      7496      7497      7498      7499  Target  \n",
       "0  0.250980  0.200000  0.525490  0.257196  0.207843   pasta  \n",
       "1  0.243569  0.274510  0.223529  0.247922  0.278431   pasta  \n",
       "2  0.064706  0.841176  0.058824  0.062745  0.841176   pasta  \n",
       "3  0.013059  0.050431  0.019608  0.023529  0.058275   pasta  \n",
       "4  0.198980  0.210745  0.144604  0.215686  0.227451   pasta  \n",
       "\n",
       "[5 rows x 7501 columns]"
      ]
     },
     "execution_count": 110,
     "metadata": {},
     "output_type": "execute_result"
    }
   ],
   "source": [
    "df.head()"
   ]
  },
  {
   "cell_type": "code",
   "execution_count": 111,
   "metadata": {
    "colab": {
     "base_uri": "https://localhost:8080/",
     "height": 134
    },
    "colab_type": "code",
    "executionInfo": {
     "elapsed": 1684,
     "status": "ok",
     "timestamp": 1600440979496,
     "user": {
      "displayName": "Prajwal Bhat",
      "photoUrl": "https://lh3.googleusercontent.com/a-/AOh14Git8KFiINGdQ1nW0gJq9MYK40HXzju4hhonJ2XTKQ=s64",
      "userId": "14656634530721889759"
     },
     "user_tz": -330
    },
    "id": "3FOYQpHXLoU1",
    "outputId": "0cc9c11f-9bf9-40e8-e4ee-fa297c1949a9"
   },
   "outputs": [],
   "source": [
    "x=flat_data\n",
    "y=df.Target"
   ]
  },
  {
   "cell_type": "code",
   "execution_count": 112,
   "metadata": {
    "colab": {
     "base_uri": "https://localhost:8080/",
     "height": 34
    },
    "colab_type": "code",
    "executionInfo": {
     "elapsed": 1987,
     "status": "ok",
     "timestamp": 1600441047023,
     "user": {
      "displayName": "Prajwal Bhat",
      "photoUrl": "https://lh3.googleusercontent.com/a-/AOh14Git8KFiINGdQ1nW0gJq9MYK40HXzju4hhonJ2XTKQ=s64",
      "userId": "14656634530721889759"
     },
     "user_tz": -330
    },
    "id": "_gS9OyX030pv",
    "outputId": "73f995d3-8af7-4965-de0c-33994bb8316d"
   },
   "outputs": [
    {
     "data": {
      "text/plain": [
       "(502, 7500)"
      ]
     },
     "execution_count": 112,
     "metadata": {},
     "output_type": "execute_result"
    }
   ],
   "source": [
    "from sklearn.model_selection import train_test_split\n",
    "x_train,x_test,y_train,y_test= train_test_split(x,y)\n",
    "\n",
    "x_test.shape"
   ]
  },
  {
   "cell_type": "code",
   "execution_count": 113,
   "metadata": {
    "colab": {
     "base_uri": "https://localhost:8080/",
     "height": 84
    },
    "colab_type": "code",
    "executionInfo": {
     "elapsed": 1975,
     "status": "ok",
     "timestamp": 1600441097621,
     "user": {
      "displayName": "Prajwal Bhat",
      "photoUrl": "https://lh3.googleusercontent.com/a-/AOh14Git8KFiINGdQ1nW0gJq9MYK40HXzju4hhonJ2XTKQ=s64",
      "userId": "14656634530721889759"
     },
     "user_tz": -330
    },
    "id": "4lkNfvU_Mvvz",
    "outputId": "0dd0014d-9964-48ba-e341-f9b4bf504539"
   },
   "outputs": [
    {
     "data": {
      "text/plain": [
       "KNeighborsClassifier(n_neighbors=7)"
      ]
     },
     "execution_count": 113,
     "metadata": {},
     "output_type": "execute_result"
    }
   ],
   "source": [
    "from sklearn.neighbors import KNeighborsClassifier\n",
    "model = KNeighborsClassifier(n_neighbors = 7)\n",
    "model.fit(x_train, y_train)"
   ]
  },
  {
   "cell_type": "code",
   "execution_count": null,
   "metadata": {
    "colab": {
     "base_uri": "https://localhost:8080/",
     "height": 34
    },
    "colab_type": "code",
    "executionInfo": {
     "elapsed": 1518,
     "status": "ok",
     "timestamp": 1600441102060,
     "user": {
      "displayName": "Prajwal Bhat",
      "photoUrl": "https://lh3.googleusercontent.com/a-/AOh14Git8KFiINGdQ1nW0gJq9MYK40HXzju4hhonJ2XTKQ=s64",
      "userId": "14656634530721889759"
     },
     "user_tz": -330
    },
    "id": "ngPCAKPtM1_W",
    "outputId": "65aaf3dc-e23e-48b7-d6c4-bb95f01b72bf"
   },
   "outputs": [],
   "source": [
    "y_pred=model.predict(x_test)\n",
    "y_pred"
   ]
  },
  {
   "cell_type": "code",
   "execution_count": 115,
   "metadata": {
    "colab": {
     "base_uri": "https://localhost:8080/",
     "height": 34
    },
    "colab_type": "code",
    "executionInfo": {
     "elapsed": 1624,
     "status": "ok",
     "timestamp": 1600441206050,
     "user": {
      "displayName": "Prajwal Bhat",
      "photoUrl": "https://lh3.googleusercontent.com/a-/AOh14Git8KFiINGdQ1nW0gJq9MYK40HXzju4hhonJ2XTKQ=s64",
      "userId": "14656634530721889759"
     },
     "user_tz": -330
    },
    "id": "WkfL8tnoM5Gh",
    "outputId": "ccfd1a60-8ec6-48ee-d793-ba2f46a42038"
   },
   "outputs": [
    {
     "data": {
      "text/plain": [
       "0.9621513944223108"
      ]
     },
     "execution_count": 115,
     "metadata": {},
     "output_type": "execute_result"
    }
   ],
   "source": [
    "from sklearn.metrics import confusion_matrix,accuracy_score\n",
    "accuracy_score(y_pred,y_test)"
   ]
  },
  {
   "cell_type": "code",
   "execution_count": 116,
   "metadata": {
    "colab": {
     "base_uri": "https://localhost:8080/",
     "height": 50
    },
    "colab_type": "code",
    "executionInfo": {
     "elapsed": 1434,
     "status": "ok",
     "timestamp": 1600441220487,
     "user": {
      "displayName": "Prajwal Bhat",
      "photoUrl": "https://lh3.googleusercontent.com/a-/AOh14Git8KFiINGdQ1nW0gJq9MYK40HXzju4hhonJ2XTKQ=s64",
      "userId": "14656634530721889759"
     },
     "user_tz": -330
    },
    "id": "XDtnoRLKur5F",
    "outputId": "f18465b4-b017-45f4-eeb9-e2c4f7180753"
   },
   "outputs": [
    {
     "data": {
      "text/plain": [
       "array([[247,  18],\n",
       "       [  1, 236]], dtype=int64)"
      ]
     },
     "execution_count": 116,
     "metadata": {},
     "output_type": "execute_result"
    }
   ],
   "source": [
    "confusion_matrix(y_pred,y_test)"
   ]
  },
  {
   "cell_type": "code",
   "execution_count": 117,
   "metadata": {
    "colab": {
     "base_uri": "https://localhost:8080/",
     "height": 339
    },
    "colab_type": "code",
    "executionInfo": {
     "elapsed": 320757,
     "status": "ok",
     "timestamp": 1600441893998,
     "user": {
      "displayName": "Prajwal Bhat",
      "photoUrl": "https://lh3.googleusercontent.com/a-/AOh14Git8KFiINGdQ1nW0gJq9MYK40HXzju4hhonJ2XTKQ=s64",
      "userId": "14656634530721889759"
     },
     "user_tz": -330
    },
    "id": "ZpRrV-6Zuvd5",
    "outputId": "f6bbb9b4-b7d0-487f-ea9d-ed8603425326"
   },
   "outputs": [
    {
     "name": "stdout",
     "output_type": "stream",
     "text": [
      "enter png or jpg pic link of pizza or pasta\n",
      "https://imgmedia.lbb.in/media/2019/01/5c2f84d1d5b20859433ee25e_1546618065799.jpg\n",
      "['pizza']\n",
      "try another pic press 1\n",
      " else enter 0\n",
      "1\n",
      "enter png or jpg pic link of pizza or pasta\n",
      "https://www.indianhealthyrecipes.com/wp-content/uploads/2019/05/masala-pasta.jpg\n",
      "['pasta']\n",
      "try another pic press 1\n",
      " else enter 0\n",
      "1\n",
      "enter png or jpg pic link of pizza or pasta\n",
      "https://i.ytimg.com/vi/3dWf6BNZPfo/maxresdefault.jpg\n",
      "['pasta']\n",
      "try another pic press 1\n",
      " else enter 0\n",
      "1\n",
      "enter png or jpg pic link of pizza or pasta\n",
      "https://imgstaticcontent.lbb.in/lbbnew/wp-content/uploads/sites/2/2018/05/20112429/PizzaHut.jpg\n",
      "['pizza']\n",
      "try another pic press 1\n",
      " else enter 0\n",
      "0\n"
     ]
    }
   ],
   "source": [
    "\n",
    "a=1\n",
    "while a ==1:\n",
    "  print(\"enter png or jpg pic link of pizza or pasta\")\n",
    "  path=input()\n",
    "  img =imread(path)\n",
    "\n",
    "  test_flat_data=[]\n",
    "  imgs=[]\n",
    "  img_resize = resize(img,(50,50,3))\n",
    "  test_flat_data.append(img_resize.flatten())\n",
    "  imgs.append(img_resize)\n",
    "\n",
    "  output=model.predict(test_flat_data)\n",
    "  print(output)\n",
    "  print(\"try another pic press 1\\n else enter 0\")\n",
    "  a=int(input())"
   ]
  },
  {
   "cell_type": "code",
   "execution_count": null,
   "metadata": {},
   "outputs": [],
   "source": []
  }
 ],
 "metadata": {
  "colab": {
   "authorship_tag": "ABX9TyOF4nxMCXCl3weOcoIVF6Ap",
   "collapsed_sections": [],
   "mount_file_id": "1OX1RaDX6aVI5WLtIhHRHAFH8hSkBpgrY",
   "name": "miniproject.ipynb",
   "provenance": []
  },
  "kernelspec": {
   "display_name": "Python 3",
   "language": "python",
   "name": "python3"
  },
  "language_info": {
   "codemirror_mode": {
    "name": "ipython",
    "version": 3
   },
   "file_extension": ".py",
   "mimetype": "text/x-python",
   "name": "python",
   "nbconvert_exporter": "python",
   "pygments_lexer": "ipython3",
   "version": "3.8.2"
  }
 },
 "nbformat": 4,
 "nbformat_minor": 1
}
